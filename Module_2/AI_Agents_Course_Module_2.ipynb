{
  "cells": [
    {
      "cell_type": "markdown",
      "metadata": {
        "id": "dUiuE5j4xkJV"
      },
      "source": [
        "# **AI_Agents_Course Module_2**\n",
        "\n",
        "[Link of the Course](https:///www.coursera.org/learn/ai-agents-python)\n",
        "\n",
        "**Instructor: Dr. Jules White**\n",
        "\n",
        "**Codes Edited by: Houshyar Jafari Asl**"
      ]
    },
    {
      "cell_type": "markdown",
      "metadata": {
        "id": "-ht2gHeDoJvb"
      },
      "source": [
        "\"\"\"\n",
        "OLLAMA LLM IN COLAB (LOCAL ALTERNATIVE TO OPENAI)\n",
        "\n",
        "This code sets up a free, local LLM (Llama3) in Google Colab using:\n",
        "1. Ollama - Runs the model locally\n",
        "2. LiteLLM - Provides OpenAI-like API interface\n",
        "\n",
        "HOW IT WORKS:\n",
        "1. First run: Downloads Llama3 (4.7GB, one-time)\n",
        "2. Starts Ollama server with CPU\n",
        "3. Uses LiteLLM to send/receive messages like OpenAI API\n",
        "\n",
        "ADVANTAGES:\n",
        "- No API keys needed\n",
        "- Free to use\n",
        "- Works offline after setup\n",
        "\n",
        "NOTE:\n",
        "- Colab may disconnect after ~1 hour\n",
        "- Responses slightly slower than GPT-4\n",
        "\"\"\""
      ]
    },
    {
      "cell_type": "markdown",
      "metadata": {
        "id": "NOO5ziTUK60k"
      },
      "source": [
        "# Agent Tools in Python"
      ]
    },
    {
      "cell_type": "markdown",
      "metadata": {
        "id": "NijdoVRRiCFg"
      },
      "source": [
        "**AI-Agent Tool Descriptions and Naming**\n",
        "\n",
        "Describing Tools to the Agent\n",
        "When developing an agentic AI system, one of the most critical aspects is ensuring that the agent understands the tools it has access to. In our previous tutorial, we explored how an AI agent interacts with an environment. Now, we extend that discussion to focus on tool definition, particularly the importance of naming, parameters, and structured metadata.\n",
        "\n",
        "**Example: Automating Documentation for Python Code**\n",
        "\n",
        "Imagine we are building an AI agent that scans through all Python files in a `src/` directory and automatically generates corresponding documentation files in a `docs/` directory. This agent will need to:\n",
        "\n",
        "* **List Python files** in the `src/` directory.\n",
        "* **Read the content** of each Python file.\n",
        "* **Write documentation** files in the `docs/` directory.\n",
        "\n",
        "Since file operations are straightforward for humans but ambiguous for an AI without context, we must clearly define these tools so the agent knows how to use them effectively."
      ]
    },
    {
      "cell_type": "markdown",
      "metadata": {
        "id": "LUg4qssLidAX"
      },
      "source": [
        "**Step 1: Defining a Tool with Structured Metadata**\n",
        "\n",
        "A basic tool definition in Python might look like this:"
      ]
    },
    {
      "cell_type": "code",
      "execution_count": null,
      "metadata": {
        "id": "uIetC2VNifOp"
      },
      "outputs": [],
      "source": [
        "def list_python_files():\n",
        "    \"\"\"Returns a list of all Python files in the src/ directory.\"\"\"\n",
        "    return [f for f in os.listdir(\"src\") if f.endswith(\".py\")]"
      ]
    },
    {
      "cell_type": "markdown",
      "metadata": {
        "id": "rgZgXYYbig9N"
      },
      "source": [
        "This provides a function that retrieves all Python files in the `src/` directory, but for an AI system, we need a more structured way to describe it."
      ]
    },
    {
      "cell_type": "markdown",
      "metadata": {
        "id": "RkBHfSa8iq1B"
      },
      "source": [
        "**Step 2: Using JSON Schema to Define Parameters**\n",
        "\n",
        "When developers design APIs, they use structured documentation to describe available functions, their inputs, and their outputs. JSON Schema is a well-known format for defining APIs, making it a natural choice for AI agents as well.\n",
        "\n",
        "For example, a tool that reads a file should specify that it expects a `file_path` parameter of type `string`. JSON Schema allows us to express this in a standardized way:"
      ]
    },
    {
      "cell_type": "code",
      "execution_count": null,
      "metadata": {
        "id": "VYMGg0JSiw2-"
      },
      "outputs": [],
      "source": [
        "{\n",
        "  \"tool_name\": \"read_file\",\n",
        "  \"description\": \"Reads the content of a specified file.\",\n",
        "  \"parameters\": {\n",
        "    \"type\": \"object\",\n",
        "    \"properties\": {\n",
        "      \"file_path\": { \"type\": \"string\" }\n",
        "    },\n",
        "    \"required\": [\"file_path\"]\n",
        "  }\n",
        "}"
      ]
    },
    {
      "cell_type": "markdown",
      "metadata": {
        "id": "GiiDn8ePiyqN"
      },
      "source": [
        "Similarly, a tool for writing documentation should define that it requires a `file_name` and `content`:"
      ]
    },
    {
      "cell_type": "code",
      "execution_count": null,
      "metadata": {
        "id": "v7oB1dxVi9ib"
      },
      "outputs": [],
      "source": [
        "{\n",
        "  \"tool_name\": \"write_doc_file\",\n",
        "  \"description\": \"Writes a documentation file to the docs/ directory.\",\n",
        "  \"parameters\": {\n",
        "    \"type\": \"object\",\n",
        "    \"properties\": {\n",
        "      \"file_name\": { \"type\": \"string\" },\n",
        "      \"content\": { \"type\": \"string\" }\n",
        "    },\n",
        "    \"required\": [\"file_name\", \"content\"]\n",
        "  }\n",
        "}"
      ]
    },
    {
      "cell_type": "markdown",
      "metadata": {
        "id": "Ez1onpzdi_EM"
      },
      "source": [
        "By providing a JSON Schema for each tool:\n",
        "\n",
        "1. **The AI can Recognize the tool’s purpose.**\n",
        "\n",
        "2. **The AI / Environment interface can validate input parameters before execution.**\n",
        "\n",
        "It may look strange that multiple parameters to a function are represented as an object. When we are getting the agent to output a tool / action selection, we are going to want it to output something like this:"
      ]
    },
    {
      "cell_type": "code",
      "execution_count": null,
      "metadata": {
        "id": "eaBvMLZwjlsA"
      },
      "outputs": [],
      "source": [
        "{\n",
        "  \"tool_name\": \"read_file\",\n",
        "  \"args\": {\n",
        "    \"file_path\": \"src/file.py\"\n",
        "  }\n",
        "}"
      ]
    },
    {
      "cell_type": "markdown",
      "metadata": {
        "id": "VDUKVm2XjmJL"
      },
      "source": [
        "The schema describes the overall dictionary that will be used to capture the “args” to the function, so it is described as an object."
      ]
    },
    {
      "cell_type": "markdown",
      "metadata": {
        "id": "1eHpmkFUj3ID"
      },
      "source": [
        "# Try Out an Agent that Calls Python Functions"
      ]
    },
    {
      "cell_type": "markdown",
      "metadata": {
        "id": "ksrluONtj5R9"
      },
      "source": [
        "**Try out this agent that can call Python functions.**\n",
        "\n",
        "When you run the notebook, the agent will prompt you for what action to take. You can say something like \"tell me the files in the current directory\" and it will make the appropriate tool choice. Experiment with the agent to see what it can and cannot do.\n",
        "\n",
        "Look for an input beneath the  code block to type your command into and hit enter. Remember, this agent can only list the files in the directory and read files."
      ]
    },
    {
      "cell_type": "code",
      "execution_count": 13,
      "metadata": {
        "colab": {
          "base_uri": "https://localhost:8080/"
        },
        "id": "7u0Y9yHTlLWU",
        "outputId": "9196f978-c71f-42f0-8ade-77a0e30d6b41"
      },
      "outputs": [
        {
          "output_type": "stream",
          "name": "stdout",
          "text": [
            ">>> Cleaning up old version at /usr/local/lib/ollama\n",
            ">>> Installing ollama to /usr/local\n",
            ">>> Downloading Linux amd64 bundle\n",
            "######################################################################## 100.0%\n",
            ">>> Adding ollama user to video group...\n",
            ">>> Adding current user to ollama group...\n",
            ">>> Creating ollama systemd service...\n",
            "\u001b[1m\u001b[31mWARNING:\u001b[m systemd is not running\n",
            "\u001b[1m\u001b[31mWARNING:\u001b[m Unable to detect NVIDIA/AMD GPU. Install lspci or lshw to automatically detect and install GPU dependencies.\n",
            ">>> The Ollama API is now available at 127.0.0.1:11434.\n",
            ">>> Install complete. Run \"ollama\" from the command line.\n",
            "\u001b[?2026h\u001b[?25l\u001b[1G\u001b[?25h\u001b[?2026l\u001b[?2026h\u001b[?25l\u001b[1G\u001b[?25h\u001b[?2026l\u001b[?2026h\u001b[?25l\u001b[1G\u001b[?25h\u001b[?2026l\u001b[?2026h\u001b[?25l\u001b[1G\u001b[?25h\u001b[?2026l\n",
            "\n",
            "User asked: List the files in this directory.\n",
            "\n",
            "Agent thinking...\n",
            "\n",
            "Agent response:\n",
            "```\n",
            "{\n",
            "  \"tool_name\": \"list_files\",\n",
            "  \"args\": {}\n",
            "}\n",
            "```\n",
            "\n",
            "Action result: {'result': ['.config', 'server.log', 'sample_data']}\n",
            "\n",
            "Agent thinking...\n",
            "\n",
            "Agent response:\n",
            "```\n",
            "{\n",
            "  \"tool_name\": \"terminate\",\n",
            "  \"args\": {\n",
            "    \"message\": \"Task completed: Listed files in the current directory. The files are .config, server.log, and sample_data.\"\n",
            "  }\n",
            "}\n",
            "```\n",
            "\n",
            "Agent terminated: Task completed: Listed files in the current directory. The files are .config, server.log, and sample_data.\n"
          ]
        }
      ],
      "source": [
        "!pip install -q litellm requests\n",
        "!curl -fsSL https://ollama.com/install.sh | sh\n",
        "!pkill -9 ollama || true\n",
        "!OLLAMA_CUDA_OVERRIDE=\"1\" nohup ollama serve > server.log 2>&1 &\n",
        "!OLLAMA_CUDA_OVERRIDE=\"1\" ollama pull llama3\n",
        "\n",
        "import time, json, os, sys, re, requests\n",
        "from litellm import completion\n",
        "from typing import List, Dict\n",
        "\n",
        "time.sleep(25)\n",
        "\n",
        "def extract_markdown_block(response: str, block_type: str = \"json\") -> str:\n",
        "    if not '```' in response:\n",
        "        return response\n",
        "    code_block = response.split('```')[1].strip()\n",
        "    if code_block.startswith(block_type):\n",
        "        code_block = code_block[len(block_type):].strip()\n",
        "    return code_block\n",
        "\n",
        "def generate_response(messages: List[Dict]) -> str:\n",
        "    response = completion(\n",
        "        model=\"ollama/llama3\",\n",
        "        messages=messages,\n",
        "        max_tokens=1024,\n",
        "        api_base=\"http://localhost:11434\"\n",
        "    )\n",
        "    return response.choices[0].message.content.strip()\n",
        "\n",
        "def parse_action(response: str) -> Dict:\n",
        "    try:\n",
        "        response = extract_markdown_block(response, \"action\")\n",
        "        response_json = json.loads(response)\n",
        "        if \"tool_name\" in response_json and \"args\" in response_json:\n",
        "            return response_json\n",
        "        else:\n",
        "            return {\"tool_name\": \"error\", \"args\": {\"message\": \"You must respond with a JSON tool invocation.\"}}\n",
        "    except json.JSONDecodeError:\n",
        "        return {\"tool_name\": \"error\", \"args\": {\"message\": \"Invalid JSON response. You must respond with a JSON tool invocation.\"}}\n",
        "\n",
        "def list_files() -> List[str]:\n",
        "    return os.listdir(\".\")\n",
        "\n",
        "def read_file(file_name: str) -> str:\n",
        "    try:\n",
        "        with open(file_name, \"r\") as file:\n",
        "            return file.read()\n",
        "    except Exception as e:\n",
        "        return f\"Error: {str(e)}\"\n",
        "\n",
        "agent_rules = [{\n",
        "    \"role\": \"system\",\n",
        "    \"content\": \"\"\"\n",
        "You are an AI agent that can perform tasks by using available tools.\n",
        "\n",
        "Available tools:\n",
        "\n",
        "\\\\```json\n",
        "{\n",
        "    \"list_files\": {\n",
        "        \"description\": \"Lists all files in the current directory.\",\n",
        "        \"parameters\": {}\n",
        "    },\n",
        "    \"read_file\": {\n",
        "        \"description\": \"Reads the content of a file.\",\n",
        "        \"parameters\": {\n",
        "            \"file_name\": {\n",
        "                \"type\": \"string\",\n",
        "                \"description\": \"The name of the file to read.\"\n",
        "            }\n",
        "        }\n",
        "    },\n",
        "    \"terminate\": {\n",
        "        \"description\": \"Ends the agent loop and provides a summary of the task.\",\n",
        "        \"parameters\": {\n",
        "            \"message\": {\n",
        "                \"type\": \"string\",\n",
        "                \"description\": \"Summary message to return to the user.\"\n",
        "            }\n",
        "        }\n",
        "    }\n",
        "}\n",
        "\\\\```\n",
        "\n",
        "Every response MUST be an action block:\n",
        "\n",
        "\\\\```action\n",
        "{\n",
        "    \"tool_name\": \"insert tool_name\",\n",
        "    \"args\": {...}\n",
        "}\n",
        "\\\\```\n",
        "\"\"\"\n",
        "}]\n",
        "\n",
        "# 🔧 Replace this with user input for production use\n",
        "user_task = \"List the files in this directory.\"\n",
        "print(f\"\\nUser asked: {user_task}\")\n",
        "\n",
        "memory = [{\"role\": \"user\", \"content\": user_task}]\n",
        "iterations = 0\n",
        "max_iterations = 5\n",
        "\n",
        "while iterations < max_iterations:\n",
        "    prompt = agent_rules + memory\n",
        "    print(\"\\nAgent thinking...\")\n",
        "    response = generate_response(prompt)\n",
        "    print(f\"\\nAgent response:\\n{response}\")\n",
        "\n",
        "    action = parse_action(response)\n",
        "\n",
        "    if action[\"tool_name\"] == \"list_files\":\n",
        "        result = {\"result\": list_files()}\n",
        "    elif action[\"tool_name\"] == \"read_file\":\n",
        "        result = {\"result\": read_file(action[\"args\"][\"file_name\"])}\n",
        "    elif action[\"tool_name\"] == \"terminate\":\n",
        "        print(\"\\nAgent terminated:\", action[\"args\"][\"message\"])\n",
        "        break\n",
        "    elif action[\"tool_name\"] == \"error\":\n",
        "        result = {\"error\": action[\"args\"][\"message\"]}\n",
        "    else:\n",
        "        result = {\"error\": f\"Unknown tool: {action['tool_name']}\"}\n",
        "\n",
        "    print(f\"\\nAction result: {result}\")\n",
        "\n",
        "    memory.extend([\n",
        "        {\"role\": \"assistant\", \"content\": response},\n",
        "        {\"role\": \"user\", \"content\": json.dumps(result)}\n",
        "    ])\n",
        "\n",
        "    if action[\"tool_name\"] == \"terminate\":\n",
        "        break\n",
        "\n",
        "    iterations += 1\n"
      ]
    },
    {
      "cell_type": "markdown",
      "metadata": {
        "id": "XTZ7U5XJmUCz"
      },
      "source": [
        "# Using LLM Function Calling for AI-Agent Interaction"
      ]
    },
    {
      "cell_type": "markdown",
      "metadata": {
        "id": "jZ85mF6AmWRy"
      },
      "source": [
        "**Step 3: Using LLM Function Calling for Structured Execution**\n",
        "\n",
        "One of the most challenging aspects of integrating AI agents with tool execution is ensuring that the model consistently produces structured output that can be parsed correctly. Traditionally, developers would attempt to engineer prompts to make the model output well-formed JSON, but this approach is unreliable—models can introduce variations, omit required fields, or output unstructured text that breaks parsing logic.\n",
        "\n",
        "To solve this, most LLMs offer **function calling** APIs that guarantee structured execution. Instead of treating function execution as a free-form text generation task, function calling APIs allow us to explicitly define the tools available to the model using **JSON Schema**. The model then decides when and how to call these functions, ensuring structured and predictable responses.\n",
        "\n",
        "**How Function Calling Simplifies AI-Agent Interfaces**\n",
        "\n",
        "When using function calling, the model returns either:\n",
        "\n",
        "1. **A function call** that includes the tool name and arguments as structured JSON.\n",
        "2. **A standard text response** if the model decides a function is unnecessary.\n",
        "\n",
        "This approach removes the need for manual prompt engineering to enforce structured output and allows the agent to focus on decision-making rather than syntax compliance."
      ]
    },
    {
      "cell_type": "markdown",
      "metadata": {
        "id": "SIExRVLmnHvY"
      },
      "source": [
        "**Example: Executing Function Calls**\n",
        "\n",
        "Below is a typical way to invoke function calling using OpenAI’s API:"
      ]
    },
    {
      "cell_type": "code",
      "execution_count": null,
      "metadata": {
        "id": "2oSvOkcInJcB"
      },
      "outputs": [],
      "source": [
        "import json\n",
        "import os\n",
        "from typing import List\n",
        "\n",
        "from litellm import completion\n",
        "\n",
        "def list_files() -> List[str]:\n",
        "    \"\"\"List files in the current directory.\"\"\"\n",
        "    return os.listdir(\".\")\n",
        "\n",
        "def read_file(file_name: str) -> str:\n",
        "    \"\"\"Read a file's contents.\"\"\"\n",
        "    try:\n",
        "        with open(file_name, \"r\") as file:\n",
        "            return file.read()\n",
        "    except FileNotFoundError:\n",
        "        return f\"Error: {file_name} not found.\"\n",
        "    except Exception as e:\n",
        "        return f\"Error: {str(e)}\"\n",
        "\n",
        "\n",
        "tool_functions = {\n",
        "    \"list_files\": list_files,\n",
        "    \"read_file\": read_file\n",
        "}\n",
        "\n",
        "tools = [\n",
        "    {\n",
        "        \"type\": \"function\",\n",
        "        \"function\": {\n",
        "            \"name\": \"list_files\",\n",
        "            \"description\": \"Returns a list of files in the directory.\",\n",
        "            \"parameters\": {\"type\": \"object\", \"properties\": {}, \"required\": []}\n",
        "        }\n",
        "    },\n",
        "    {\n",
        "        \"type\": \"function\",\n",
        "        \"function\": {\n",
        "            \"name\": \"read_file\",\n",
        "            \"description\": \"Reads the content of a specified file in the directory.\",\n",
        "            \"parameters\": {\n",
        "                \"type\": \"object\",\n",
        "                \"properties\": {\"file_name\": {\"type\": \"string\"}},\n",
        "                \"required\": [\"file_name\"]\n",
        "            }\n",
        "        }\n",
        "    }\n",
        "]\n",
        "\n",
        "# Our rules are simplified since we don't have to worry about getting a specific output format\n",
        "agent_rules = [{\n",
        "    \"role\": \"system\",\n",
        "    \"content\": \"\"\"\n",
        "You are an AI agent that can perform tasks by using available tools.\n",
        "\n",
        "If a user asks about files, documents, or content, first list the files before reading them.\n",
        "\"\"\"\n",
        "}]\n",
        "\n",
        "user_task = input(\"What would you like me to do? \")\n",
        "\n",
        "memory = [{\"role\": \"user\", \"content\": user_task}]\n",
        "\n",
        "messages = agent_rules + memory\n",
        "\n",
        "response = completion(\n",
        "    model=\"openai/gpt-4o\",\n",
        "    messages=messages,\n",
        "    tools=tools,\n",
        "    max_tokens=1024\n",
        ")\n",
        "\n",
        "# Extract the tool call from the response, note we don't have to parse now!\n",
        "tool = response.choices[0].message.tool_calls[0]\n",
        "tool_name = tool.function.name\n",
        "tool_args = json.loads(tool.function.arguments)\n",
        "result = tool_functions[tool_name](**tool_args)\n",
        "\n",
        "print(f\"Tool Name: {tool_name}\")\n",
        "print(f\"Tool Arguments: {tool_args}\")\n",
        "print(f\"Result: {result}\")"
      ]
    },
    {
      "cell_type": "markdown",
      "metadata": {
        "id": "H3p0AIjbmrr2"
      },
      "source": [
        "**Breaking Down Function Calling Step by Step**\n",
        "\n",
        "Let’s examine how function calling works in detail:\n",
        "\n",
        "1. **Define the Tool Functions**"
      ]
    },
    {
      "cell_type": "code",
      "execution_count": null,
      "metadata": {
        "id": "K0XjZSnTnedq"
      },
      "outputs": [],
      "source": [
        "def list_files() -> List[str]:\n",
        "    \"\"\"List files in the current directory.\"\"\"\n",
        "    return os.listdir(\".\")\n",
        "\n",
        "def read_file(file_name: str) -> str:\n",
        "    \"\"\"Read a file's contents.\"\"\"\n",
        "    try:\n",
        "        with open(file_name, \"r\") as file:\n",
        "            return file.read()\n",
        "    except FileNotFoundError:\n",
        "        return f\"Error: {file_name} not found.\"\n",
        "    except Exception as e:\n",
        "        return f\"Error: {str(e)}\""
      ]
    },
    {
      "cell_type": "markdown",
      "metadata": {
        "id": "gDQDx8-jn55l"
      },
      "source": [
        "First, we define the actual Python functions that will be executed. These contain the business logic for each tool and handle the actual operations the AI agent can perform.\n",
        "\n",
        "2. **Create a Function Registry**"
      ]
    },
    {
      "cell_type": "code",
      "execution_count": null,
      "metadata": {
        "id": "ZNeJnDVtn9A0"
      },
      "outputs": [],
      "source": [
        "tool_functions = {\n",
        "    \"list_files\": list_files,\n",
        "    \"read_file\": read_file\n",
        "}"
      ]
    },
    {
      "cell_type": "markdown",
      "metadata": {
        "id": "MfGBXzIpoAD_"
      },
      "source": [
        "We maintain a dictionary that maps function names to their corresponding Python implementations. This registry allows us to easily look up and execute the appropriate function when the model calls it."
      ]
    },
    {
      "cell_type": "markdown",
      "source": [
        "3. **Define Tool Specifications Using JSON Schema**"
      ],
      "metadata": {
        "id": "jFenCt_2xuPh"
      }
    },
    {
      "cell_type": "code",
      "source": [
        "tools = [\n",
        "    {\n",
        "        \"type\": \"function\",\n",
        "        \"function\": {\n",
        "            \"name\": \"list_files\",\n",
        "            \"description\": \"Returns a list of files in the directory.\",\n",
        "            \"parameters\": {\"type\": \"object\", \"properties\": {}, \"required\": []}\n",
        "        }\n",
        "    },\n",
        "    {\n",
        "        \"type\": \"function\",\n",
        "        \"function\": {\n",
        "            \"name\": \"read_file\",\n",
        "            \"description\": \"Reads the content of a specified file in the directory.\",\n",
        "            \"parameters\": {\n",
        "                \"type\": \"object\",\n",
        "                \"properties\": {\"file_name\": {\"type\": \"string\"}},\n",
        "                \"required\": [\"file_name\"]\n",
        "            }\n",
        "        }\n",
        "    }\n",
        "]"
      ],
      "metadata": {
        "id": "qlAQy2E0xv4q"
      },
      "execution_count": null,
      "outputs": []
    },
    {
      "cell_type": "markdown",
      "source": [
        "This is where we describe our tools to the model. Each tool specification includes:\n",
        "\n",
        "* A **name** that matches a key in our tool_functions dictionary\n",
        "* A **description** that helps the model understand when to use this tool\n",
        "* **Parameters** defined using JSON Schema, specifying the expected input format\n",
        "\n",
        "Note how the `list_files` function takes no parameters (empty “properties” object), while `read_file` requires a “file_name” string parameter. The model will use these specifications to generate properly structured calls."
      ],
      "metadata": {
        "id": "4Zat-xBhzeuf"
      }
    },
    {
      "cell_type": "markdown",
      "source": [
        "**4. Set Up the Agent’s Instructions**"
      ],
      "metadata": {
        "id": "cShWfNVx0w25"
      }
    },
    {
      "cell_type": "code",
      "source": [
        "agent_rules = [{\n",
        "    \"role\": \"system\",\n",
        "    \"content\": \"\"\"\n",
        "You are an AI agent that can perform tasks by using available tools.\n",
        "\n",
        "If a user asks about files, documents, or content, first list the files before reading them.\n",
        "\"\"\"\n",
        "}]"
      ],
      "metadata": {
        "id": "6mIgBdfK0y3R"
      },
      "execution_count": null,
      "outputs": []
    },
    {
      "cell_type": "markdown",
      "source": [
        "The system message provides guidance on how the agent should behave. With function calling, we don’t need to instruct the model on how to format its outputs - we only need to focus on the decision-making logic."
      ],
      "metadata": {
        "id": "u5088Jlk0zeW"
      }
    },
    {
      "cell_type": "markdown",
      "source": [
        "5. **Prepare the Conversation Context**"
      ],
      "metadata": {
        "id": "KMsJ_GD306dZ"
      }
    },
    {
      "cell_type": "code",
      "source": [
        "user_task = input(\"What would you like me to do? \")\n",
        "memory = [{\"role\": \"user\", \"content\": user_task}]\n",
        "messages = agent_rules + memory"
      ],
      "metadata": {
        "id": "koW-qk9y0-pF"
      },
      "execution_count": null,
      "outputs": []
    },
    {
      "cell_type": "markdown",
      "source": [
        "We combine the system instructions with the user’s input to create the conversation context."
      ],
      "metadata": {
        "id": "SAqikIqx0_1J"
      }
    },
    {
      "cell_type": "markdown",
      "source": [
        "6. **Make the API Call with Function Definitions**"
      ],
      "metadata": {
        "id": "4UxJxvzA1BRz"
      }
    },
    {
      "cell_type": "code",
      "source": [
        "response = completion(\n",
        "    model=\"openai/gpt-4o\",\n",
        "    messages=messages,\n",
        "    tools=tools,\n",
        "    max_tokens=1024\n",
        ")"
      ],
      "metadata": {
        "id": "OAeimkry1Ewl"
      },
      "execution_count": null,
      "outputs": []
    },
    {
      "cell_type": "markdown",
      "source": [
        "The critical difference here is the inclusion of the tools parameter, which tells the model what functions it can call. This is what activates the function calling mechanism."
      ],
      "metadata": {
        "id": "7VGkOTXt1MHR"
      }
    },
    {
      "cell_type": "markdown",
      "source": [
        "7. **Process the Structured Response**"
      ],
      "metadata": {
        "id": "vQ5ojLKz2E4Q"
      }
    },
    {
      "cell_type": "code",
      "source": [
        "tool = response.choices[0].message.tool_calls[0]\n",
        "tool_name = tool.function.name\n",
        "tool_args = json.loads(tool.function.arguments)"
      ],
      "metadata": {
        "id": "Y6CvLWFE2GZU"
      },
      "execution_count": null,
      "outputs": []
    },
    {
      "cell_type": "markdown",
      "source": [
        "When using function calling, the response comes back with a dedicated `tool_calls` array rather than free-text output. This ensures that:\n",
        "\n",
        "* The **function name** is properly identified\n",
        "* The **arguments** are correctly formatted as valid JSON\n",
        "* We don’t need to parse or extract from unstructured text"
      ],
      "metadata": {
        "id": "cz70cfN62HxA"
      }
    },
    {
      "cell_type": "markdown",
      "source": [
        "8. **Execute the Function with the Provided Arguments**"
      ],
      "metadata": {
        "id": "sTqQlK9V2n58"
      }
    },
    {
      "cell_type": "code",
      "source": [
        "result = tool_functions[tool_name](**tool_args)"
      ],
      "metadata": {
        "id": "_3QOrRIr2pvu"
      },
      "execution_count": null,
      "outputs": []
    },
    {
      "cell_type": "markdown",
      "source": [
        "Finally, we look up the appropriate function in our registry and call it with the arguments the model provided. The `**tool_args` syntax unpacks the JSON object into keyword arguments."
      ],
      "metadata": {
        "id": "kfNCXm-h2qQk"
      }
    },
    {
      "cell_type": "markdown",
      "source": [
        "**Key Benefits of Function Calling APIs**\n",
        "\n",
        "1. **Eliminates prompt engineering for structured responses** – No need to force the model to output JSON manually.\n",
        "\n",
        "2. **Uses standardized JSON Schema** – The same format used in API documentation applies seamlessly to AI interactions.\n",
        "3. **Allows mixed text and tool execution** – The model can decide whether a tool is necessary or provide a natural response.\n",
        "4. **Simplifies parsing logic** – Instead of handling inconsistent outputs, developers only check for tool_calls in the response.\n",
        "5. **Guarantees syntactically correct arguments** – The model automatically ensures arguments match the expected parameter format."
      ],
      "metadata": {
        "id": "0K6JbOVU3H7-"
      }
    },
    {
      "cell_type": "markdown",
      "source": [
        "**Conclusion**\n",
        "\n",
        "Function calling APIs significantly improve the reliability of AI-agent interactions by enforcing structured execution. By defining tools with JSON Schema and letting the model determine when to use them, we build a more predictable and maintainable AI environment interface. In the next section, we will explore **how to register these tools dynamically using decorators** to further streamline agent development."
      ],
      "metadata": {
        "id": "hMYdFYtR3bQq"
      }
    },
    {
      "cell_type": "markdown",
      "source": [],
      "metadata": {
        "id": "y7ejE_Vg4U6g"
      }
    },
    {
      "cell_type": "markdown",
      "source": [
        "# Simplifying the AI Agent Loop with Function Calling"
      ],
      "metadata": {
        "id": "1LN4eD6j5XB9"
      }
    },
    {
      "cell_type": "markdown",
      "source": [
        "**Function Calling and the Simplified Agent Loop**\n",
        "\n",
        "Now that we have explored function calling, we can significantly simplify our AI agent loop. Traditionally, parsing the LLM’s responses required engineering strict output formats, validating them, and handling errors when the model deviated from the expected structure. With function calling, the model now natively supports structured responses, ensuring we receive either a valid function call or a standard text reply.\n",
        "\n",
        "This dramatically reduces the complexity of parsing responses and handling actions. Instead of manually extracting commands from unstructured text, we can directly interpret the function calls provided by the model and execute them with confidence."
      ],
      "metadata": {
        "id": "R9nkfwCk5fB5"
      }
    },
    {
      "cell_type": "markdown",
      "source": [
        "**How Function Calling Simplifies the Agent Loop**\n",
        "\n",
        "Let’s revisit the agent loop, but now using function calling. Instead of handling multiple layers of parsing, we let the model’s API return structured function calls when needed."
      ],
      "metadata": {
        "id": "gnieo2RA5j4j"
      }
    },
    {
      "cell_type": "code",
      "source": [
        "import json\n",
        "import os\n",
        "from typing import List\n",
        "\n",
        "from litellm import completion\n",
        "\n",
        "def list_files() -> List[str]:\n",
        "    \"\"\"List files in the current directory.\"\"\"\n",
        "    return os.listdir(\".\")\n",
        "\n",
        "def read_file(file_name: str) -> str:\n",
        "    \"\"\"Read a file's contents.\"\"\"\n",
        "    try:\n",
        "        with open(file_name, \"r\") as file:\n",
        "            return file.read()\n",
        "    except FileNotFoundError:\n",
        "        return f\"Error: {file_name} not found.\"\n",
        "    except Exception as e:\n",
        "        return f\"Error: {str(e)}\"\n",
        "\n",
        "def terminate(message: str) -> None:\n",
        "    \"\"\"Terminate the agent loop and provide a summary message.\"\"\"\n",
        "    print(f\"Termination message: {message}\")\n",
        "\n",
        "tool_functions = {\n",
        "    \"list_files\": list_files,\n",
        "    \"read_file\": read_file,\n",
        "    \"terminate\": terminate\n",
        "}\n",
        "\n",
        "tools = [\n",
        "    {\n",
        "        \"type\": \"function\",\n",
        "        \"function\": {\n",
        "            \"name\": \"list_files\",\n",
        "            \"description\": \"Returns a list of files in the directory.\",\n",
        "            \"parameters\": {\"type\": \"object\", \"properties\": {}, \"required\": []}\n",
        "        }\n",
        "    },\n",
        "    {\n",
        "        \"type\": \"function\",\n",
        "        \"function\": {\n",
        "            \"name\": \"read_file\",\n",
        "            \"description\": \"Reads the content of a specified file in the directory.\",\n",
        "            \"parameters\": {\n",
        "                \"type\": \"object\",\n",
        "                \"properties\": {\"file_name\": {\"type\": \"string\"}},\n",
        "                \"required\": [\"file_name\"]\n",
        "            }\n",
        "        }\n",
        "    },\n",
        "    {\n",
        "        \"type\": \"function\",\n",
        "        \"function\": {\n",
        "            \"name\": \"terminate\",\n",
        "            \"description\": \"Terminates the conversation. No further actions or interactions are possible after this. Prints the provided message for the user.\",\n",
        "            \"parameters\": {\n",
        "                \"type\": \"object\",\n",
        "                \"properties\": {\n",
        "                    \"message\": {\"type\": \"string\"},\n",
        "                },\n",
        "                \"required\": [\"message\"]\n",
        "            }\n",
        "        }\n",
        "    }\n",
        "]\n",
        "\n",
        "agent_rules = [{\n",
        "    \"role\": \"system\",\n",
        "    \"content\": \"\"\"\n",
        "You are an AI agent that can perform tasks by using available tools.\n",
        "\n",
        "If a user asks about files, documents, or content, first list the files before reading them.\n",
        "\n",
        "When you are done, terminate the conversation by using the \"terminate\" tool and I will provide the results to the user.\n",
        "\"\"\"\n",
        "}]\n",
        "\n",
        "# Initialize agent parameters\n",
        "iterations = 0\n",
        "max_iterations = 10\n",
        "\n",
        "user_task = input(\"What would you like me to do? \")\n",
        "\n",
        "memory = [{\"role\": \"user\", \"content\": user_task}]\n",
        "\n",
        "# The Agent Loop\n",
        "while iterations < max_iterations:\n",
        "\n",
        "    messages = agent_rules + memory\n",
        "\n",
        "    response = completion(\n",
        "        model=\"openai/gpt-4o\",\n",
        "        messages=messages,\n",
        "        tools=tools,\n",
        "        max_tokens=1024\n",
        "    )\n",
        "\n",
        "    if response.choices[0].message.tool_calls:\n",
        "        tool = response.choices[0].message.tool_calls[0]\n",
        "        tool_name = tool.function.name\n",
        "        tool_args = json.loads(tool.function.arguments)\n",
        "\n",
        "        action = {\n",
        "            \"tool_name\": tool_name,\n",
        "            \"args\": tool_args\n",
        "        }\n",
        "\n",
        "        if tool_name == \"terminate\":\n",
        "            print(f\"Termination message: {tool_args['message']}\")\n",
        "            break\n",
        "        elif tool_name in tool_functions:\n",
        "            try:\n",
        "                result = {\"result\": tool_functions[tool_name](**tool_args)}\n",
        "            except Exception as e:\n",
        "                result = {\"error\":f\"Error executing {tool_name}: {str(e)}\"}\n",
        "        else:\n",
        "            result = {\"error\": f\"Unknown tool: {tool_name}\"}\n",
        "\n",
        "        print(f\"Executing: {tool_name} with args {tool_args}\")\n",
        "        print(f\"Result: {result}\")\n",
        "        memory.extend([\n",
        "            {\"role\": \"assistant\", \"content\": json.dumps(action)},\n",
        "            {\"role\": \"user\", \"content\": json.dumps(result)}\n",
        "        ])\n",
        "    else:\n",
        "        result = response.choices[0].message.content\n",
        "        print(f\"Response: {result}\")\n",
        "        break"
      ],
      "metadata": {
        "id": "-IFA5Xlo55Ti"
      },
      "execution_count": null,
      "outputs": []
    },
    {
      "cell_type": "markdown",
      "source": [
        "**What This Changes**\n",
        "\n",
        "1. **No More Custom Parsing Logic** - We don’t need to engineer strict text output parsing; the model always returns structured JSON for function calls.\n",
        "2. **Dynamic Execution** - Instead of a rigid loop that manually checks what the agent should do, we simply read and execute the function call.\n",
        "3. **Unified Text & Action Handling** - If no function call is needed, the model responds with a message, allowing mixed conversational and action-driven workflows.\n",
        "4. **Automated Function Execution** - The agent dynamically maps the tool name from the model to its corresponding Python function and executes it with the provided arguments."
      ],
      "metadata": {
        "id": "IMmMYtm-6WrN"
      }
    },
    {
      "cell_type": "markdown",
      "source": [
        "**Errors Can Still Occur**\n",
        "\n",
        "While function calling improves structured execution, it does not eliminate all potential issues. One common problem is that the model may still sometimes return improperly formatted JSON or a tool call that isn’t valid. For example, the response could contain syntax errors, missing required fields, or incorrectly formatted values. If the agent attempts to parse this malformed JSON, it will fail.\n",
        "\n",
        "To address this, we could add error handling around `json.loads()` to catch `json.JSONDecodeError`. If a parsing error occurs, the agent retries by sending another request. This prevents the entire loop from crashing and ensures robustness in execution. You can do this as a practice exercise to enhance the agent’s reliability.\n",
        "\n",
        "Additionally, even when the JSON is correctly formatted, errors can still arise at runtime due to missing files, incorrect arguments, or unexpected edge cases in function execution. Our error handling ensures that these issues do not halt execution entirely but instead provide meaningful feedback for debugging and improvement."
      ],
      "metadata": {
        "id": "xRMQQBOV6vRM"
      }
    },
    {
      "cell_type": "markdown",
      "source": [
        "**Key Takeaways**\n",
        "\n",
        "By leveraging function calling, we remove unnecessary complexity from the agent loop, allowing the AI to interact with its environment more reliably. This simplification makes AI agents more robust, scalable, and easier to integrate into real-world applications.\n",
        "\n",
        "In a later lesson, we will explore **how to register tools dynamically with decorators**, further improving flexibility and maintainability in AI agent design."
      ],
      "metadata": {
        "id": "AzbO4Q6S7F0B"
      }
    },
    {
      "cell_type": "markdown",
      "source": [
        "# Tool Design and Naming Best Practices for AI Agents"
      ],
      "metadata": {
        "id": "1z_Qru-Z7gyW"
      }
    },
    {
      "cell_type": "markdown",
      "source": [
        "**Designing Effective Tools for AI Agents**\n",
        "\n",
        "When designing tools for an AI agent, the goal is to provide a **limited, well-defined set of functions** that are as specific as possible to the agent’s intended task. Well-designed tools reduce ambiguity, improve reliability, and help the AI execute actions correctly without misinterpretation."
      ],
      "metadata": {
        "id": "FMEDIIjS7kig"
      }
    },
    {
      "cell_type": "markdown",
      "source": [
        "**Why Tool Design Matters**\n",
        "\n",
        "Sometimes, if tools are too generic, such as a single `list_files` or `read_file` function, the AI might struggle to use them correctly. For instance, an agent might attempt to read a file but specify the wrong directory, leading to errors. Instead, tools should be structured to enforce correctness while minimizing the agent’s margin for error.\n",
        "\n",
        "Agents can use generic tools as well, but more specialized tools are easier to manage and less prone to misuse by the agent. There is a trade-off between the specificity of tools and the flexibility they provide. More specific tools also limit reuse, so finding the right balance is crucial. When building an agent inititally, err on the side of specificity.\n",
        "\n",
        "Let’s assume that rather than a generic file agent, we are writing an agent that works with Python code and documentation. Instead of defining broad functions like:"
      ],
      "metadata": {
        "id": "bn0wW9B_74CU"
      }
    },
    {
      "cell_type": "markdown",
      "source": [
        "Let’s assume that rather than a generic file agent, we are writing an agent that works with Python code and documentation. Instead of defining broad functions like:\n",
        "\n",
        "* `list_files(directory: str)` → Returns all files in a specified directory.\n",
        "* `read_file(file_path: str)` → Reads a file from an arbitrary path.\n",
        "* `write_file(file_path: str, content: str)` → Writes to an arbitrary file.\n",
        "\n",
        "We should define **task-specific functions** like:\n",
        "\n",
        "* `list_python_files()` → Returns Python files **only** from the src/ directory.\n",
        "* `read_python_file(file_name: str)` → Reads a Python file **only** from the src/ directory.\n",
        "* `write_documentation(file_name: str, content: str)` → Writes documentation **only** to the docs/ directory.\n",
        "\n",
        "In the context of the more limited scope of Python documentation, the constraints reduce the chances of incorrect agent behavior while making it clear what each tool does."
      ],
      "metadata": {
        "id": "DypLx82o8nw5"
      }
    },
    {
      "cell_type": "markdown",
      "source": [
        "**Example: Reading a Python File**"
      ],
      "metadata": {
        "id": "K3KbYk4T9adx"
      }
    },
    {
      "cell_type": "code",
      "source": [
        "{\n",
        "  \"tool_name\": \"read_python_file\",\n",
        "  \"description\": \"Reads the content of a Python file from the src/ directory.\",\n",
        "  \"parameters\": {\n",
        "    \"type\": \"object\",\n",
        "    \"properties\": {\n",
        "      \"file_name\": { \"type\": \"string\" }\n",
        "    },\n",
        "    \"required\": [\"file_name\"]\n",
        "  }\n",
        "}"
      ],
      "metadata": {
        "id": "WJXoIyc29cTA"
      },
      "execution_count": null,
      "outputs": []
    },
    {
      "cell_type": "markdown",
      "source": [
        "**Example: Writing Documentation**"
      ],
      "metadata": {
        "id": "lzf7B05X9g_d"
      }
    },
    {
      "cell_type": "code",
      "source": [
        "{\n",
        "  \"tool_name\": \"write_documentation\",\n",
        "  \"description\": \"Writes a documentation file to the docs/ directory.\",\n",
        "  \"parameters\": {\n",
        "    \"type\": \"object\",\n",
        "    \"properties\": {\n",
        "      \"file_name\": { \"type\": \"string\" },\n",
        "      \"content\": { \"type\": \"string\" }\n",
        "    },\n",
        "    \"required\": [\"file_name\", \"content\"]\n",
        "  }\n",
        "}"
      ],
      "metadata": {
        "id": "USEmWNJj9k09"
      },
      "execution_count": null,
      "outputs": []
    },
    {
      "cell_type": "markdown",
      "source": [
        "**Step 2: Naming Matters – Best Practices for Tool Naming**\n",
        "\n",
        "Naming plays a crucial role in AI comprehension. If we name a tool `proc_handler`, the AI might struggle to infer its purpose. Instead, naming it `process_file` provides better clarity."
      ],
      "metadata": {
        "id": "KUHy4yD89lY5"
      }
    },
    {
      "cell_type": "markdown",
      "source": [
        "**Example: Naming Comparison**"
      ],
      "metadata": {
        "id": "DKIaOCNS-38V"
      }
    },
    {
      "cell_type": "markdown",
      "source": [
        "![Screenshot 2025-08-02 122243.png](data:image/png;base64,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)"
      ],
      "metadata": {
        "id": "NlZMygqk_A1c"
      }
    },
    {
      "cell_type": "markdown",
      "source": [
        "Even with well-named tools, we still need structured descriptions for disambiguation, especially in specialized domains."
      ],
      "metadata": {
        "id": "8-ph9FZe_DLh"
      }
    },
    {
      "cell_type": "markdown",
      "source": [
        "**Step 3: Robust Error Handling in Tools**\n",
        "\n",
        "Each tool should be designed to handle errors gracefully and provide **rich error messages** back to the agent. This helps prevent failures and enables the agent to adjust its actions dynamically when unexpected issues occur."
      ],
      "metadata": {
        "id": "M9maV0In_GXE"
      }
    },
    {
      "cell_type": "markdown",
      "source": [
        "**Example: Improving `read_python_file` with Error Handling**"
      ],
      "metadata": {
        "id": "hlL1_RoU_XwW"
      }
    },
    {
      "cell_type": "code",
      "source": [
        "import os\n",
        "\n",
        "def read_python_file(file_name):\n",
        "    \"\"\"Reads a Python file from the src/ directory with error handling.\"\"\"\n",
        "    file_path = os.path.join(\"src\", file_name)\n",
        "\n",
        "    if not file_name.endswith(\".py\"):\n",
        "        return {\"error\": \"Invalid file type. Only Python files can be read.\"}\n",
        "\n",
        "    if not os.path.exists(file_path):\n",
        "        return {\"error\": f\"File '{file_name}' does not exist in the src/ directory.\"}\n",
        "\n",
        "    with open(file_path, \"r\") as f:\n",
        "        return {\"content\": f.read()}"
      ],
      "metadata": {
        "id": "CH7SGJxd_ghq"
      },
      "execution_count": null,
      "outputs": []
    },
    {
      "cell_type": "markdown",
      "source": [
        "This version ensures:\n",
        "\n",
        "* **Only Python files are read.**\n",
        "* **Non-existent files return an informative error.**\n",
        "* **All responses are structured for easy agent parsing.**"
      ],
      "metadata": {
        "id": "pCfWirUH_jwJ"
      }
    },
    {
      "cell_type": "markdown",
      "source": [
        "**Instructions in Error Messages**\n",
        "\n",
        "When we know that certain tools will always be used together or that there is a right way to handle a particular error, we can provide that information back to the agent in the error message. For example, in our `read_python_file` function, if the file does not exist, we can suggest that the agent call the `list_python_files` function to get an accurate list of file names."
      ],
      "metadata": {
        "id": "Tj4gIOLU_xBi"
      }
    },
    {
      "cell_type": "code",
      "source": [
        "def read_python_file(file_name):\n",
        "    \"\"\"Reads a Python file from the src/ directory with error handling.\"\"\"\n",
        "    file_path = os.path.join(\"src\", file_name)\n",
        "\n",
        "    if not file_name.endswith(\".py\"):\n",
        "        return {\"error\": \"Invalid file type. Only Python files can be read. Call the list_python_files function to get a list of valid files.\"}\n",
        "  ..."
      ],
      "metadata": {
        "id": "lFyYjyh2_7Cl"
      },
      "execution_count": null,
      "outputs": []
    },
    {
      "cell_type": "markdown",
      "source": [
        "We could put this information into the original agent rules, but then the agent would have to remember it. Further, adding it there creates a more complicated set of rules for the agent to remember and may have unexpected side effects on how it handles errors in other tools. By injecting the instruction here, we can ensure that the agent has the information it needs to handle this error without having to remember it in its rules. It also gets the instruction “just in time” when it needs it."
      ],
      "metadata": {
        "id": "3xVVantd_7mE"
      }
    },
    {
      "cell_type": "markdown",
      "source": [
        "**Conclusion**\n",
        "\n",
        "When integrating AI into real-world environments, tool descriptions must be **explicit, structured, and informative**. By following these principles:\n",
        "\n",
        "* **Use descriptive names.**\n",
        "* **Provide structured metadata.**\n",
        "* **Leverage JSON Schema for parameters.**\n",
        "* **Ensure AI has contextual understanding.**\n",
        "* **Include robust error handling.**\n",
        "* **Provide informative error messages.**\n",
        "* **Inject instructions into error messages.**\n",
        "\n",
        "This approach ensures that AI agents can interact with their environments effectively while minimizing incorrect or ambiguous tool usage. In the next tutorial, we will explore **dynamic tool registration using decorators**, further improving flexibility and maintainability in AI agent design."
      ],
      "metadata": {
        "id": "WSIdTqjh_-nw"
      }
    }
  ],
  "metadata": {
    "colab": {
      "collapsed_sections": [
        "dUiuE5j4xkJV",
        "NOO5ziTUK60k",
        "1eHpmkFUj3ID",
        "XTZ7U5XJmUCz",
        "1LN4eD6j5XB9",
        "1z_Qru-Z7gyW"
      ],
      "provenance": []
    },
    "kernelspec": {
      "display_name": "Python 3",
      "name": "python3"
    },
    "language_info": {
      "name": "python"
    }
  },
  "nbformat": 4,
  "nbformat_minor": 0
}